{
 "cells": [
  {
   "cell_type": "markdown",
   "metadata": {},
   "source": [
    "## 1. Import Packages"
   ]
  },
  {
   "cell_type": "code",
   "execution_count": null,
   "metadata": {},
   "outputs": [],
   "source": [
    "import numpy as np\n",
    "import pandas as pd\n",
    "from matplotlib import pyplot as plt\n",
    "import tensorflow as tf\n"
   ]
  },
  {
   "cell_type": "markdown",
   "metadata": {},
   "source": [
    "## 2. Import datasets"
   ]
  },
  {
   "cell_type": "code",
   "execution_count": null,
   "metadata": {},
   "outputs": [],
   "source": [
    "pneumonia_dataset = np.load('../Datasets/pneumoniamnist.npz')\n",
    "print(\"Get object keys\", pd.DataFrame(pneumonia_dataset).head())"
   ]
  },
  {
   "cell_type": "markdown",
   "metadata": {},
   "source": [
    "## 3. Get images and labels"
   ]
  },
  {
   "cell_type": "code",
   "execution_count": null,
   "metadata": {},
   "outputs": [],
   "source": [
    "train_images = pneumonia_dataset['train_images']\n",
    "print(\"train_images dimensions\", np.shape(train_images))\n",
    "val_images = pneumonia_dataset['val_images']\n",
    "print(\"train_images dimensions\", np.shape(val_images))\n",
    "test_images = pneumonia_dataset['test_images']\n",
    "print(\"train_images dimensions\", np.shape(test_images))\n",
    "train_labels = pneumonia_dataset['train_labels']\n",
    "print(\"train_images dimensions\", np.shape(train_labels))\n",
    "val_labels = pneumonia_dataset['val_labels']\n",
    "print(\"train_images dimensions\", np.shape(val_labels))"
   ]
  },
  {
   "cell_type": "markdown",
   "metadata": {},
   "source": [
    "## 4. Display a image from the dataset"
   ]
  },
  {
   "cell_type": "code",
   "execution_count": null,
   "metadata": {},
   "outputs": [],
   "source": [
    "sample_image = train_images[0]\n",
    "plt.imshow(sample_image, cmap=\"gray\")\n",
    "plt.title(\"Sample image from dataset\")\n",
    "plt.show()"
   ]
  },
  {
   "cell_type": "markdown",
   "metadata": {},
   "source": [
    "## 5. Convert image data from integers to floating point numbers"
   ]
  },
  {
   "cell_type": "code",
   "execution_count": null,
   "metadata": {},
   "outputs": [],
   "source": [
    "train_images = train_images / 255.0\n",
    "print(\"New dataset format using floating point numbers\", train_images)\n",
    "val_images = val_images / 255.0\n",
    "\n",
    "test_images = test_images / 255.0"
   ]
  },
  {
   "cell_type": "markdown",
   "metadata": {},
   "source": [
    "## 6. Create a neural network"
   ]
  },
  {
   "cell_type": "code",
   "execution_count": null,
   "metadata": {},
   "outputs": [],
   "source": [
    "NNmodel = tf.keras.models.Sequential([\n",
    "  tf.keras.layers.Flatten(input_shape=(28, 28)),\n",
    "  tf.keras.layers.FlattenDense(128, activation='relu'),\n",
    "  tf.keras.layers.FlattenDropout(0.2),\n",
    "  tf.keras.layers.FlattenDense(16, activation='relu') ,\n",
    "  tf.keras.layers.FlattenDropout(0.2),\n",
    "  tf.keras.layers.FlattenDense(2 , activation ='softmax')\n",
    "])"
   ]
  }
 ],
 "metadata": {
  "kernelspec": {
   "display_name": "Python 3",
   "language": "python",
   "name": "python3"
  },
  "language_info": {
   "codemirror_mode": {
    "name": "ipython",
    "version": 3
   },
   "file_extension": ".py",
   "mimetype": "text/x-python",
   "name": "python",
   "nbconvert_exporter": "python",
   "pygments_lexer": "ipython3",
   "version": "3.11.4"
  }
 },
 "nbformat": 4,
 "nbformat_minor": 2
}
